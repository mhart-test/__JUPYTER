{
 "cells": [
  {
   "cell_type": "code",
   "execution_count": 1,
   "metadata": {},
   "outputs": [
    {
     "data": {
      "text/plain": [
       "'Hello world !'"
      ]
     },
     "execution_count": 1,
     "metadata": {},
     "output_type": "execute_result"
    }
   ],
   "source": [
    "'Hello world !'"
   ]
  },
  {
   "cell_type": "code",
   "execution_count": 2,
   "metadata": {},
   "outputs": [
    {
     "name": "stdout",
     "output_type": "stream",
     "text": [
      " Datentr„ger in Laufwerk D: ist Temp\n",
      " Volumeseriennummer: C050-90EF\n",
      "\n",
      " Verzeichnis von D:\\__JUPYTER\n",
      "\n",
      "08.09.2020  12:55    <DIR>          .\n",
      "08.09.2020  12:55    <DIR>          ..\n",
      "08.09.2020  12:55    <DIR>          .ipynb_checkpoints\n",
      "08.09.2020  12:55               757 Hello world.ipynb\n",
      "08.09.2020  12:54                11 README.md\n",
      "               2 Datei(en),            768 Bytes\n",
      "               3 Verzeichnis(se), 89.596.919.808 Bytes frei\n"
     ]
    }
   ],
   "source": [
    "%ls"
   ]
  }
 ],
 "metadata": {
  "kernelspec": {
   "display_name": "Python 3",
   "language": "python",
   "name": "python3"
  },
  "language_info": {
   "codemirror_mode": {
    "name": "ipython",
    "version": 3
   },
   "file_extension": ".py",
   "mimetype": "text/x-python",
   "name": "python",
   "nbconvert_exporter": "python",
   "pygments_lexer": "ipython3",
   "version": "3.8.3"
  }
 },
 "nbformat": 4,
 "nbformat_minor": 4
}
